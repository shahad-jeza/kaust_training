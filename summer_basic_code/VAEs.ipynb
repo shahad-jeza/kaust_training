{
  "nbformat": 4,
  "nbformat_minor": 0,
  "metadata": {
    "colab": {
      "provenance": [],
      "authorship_tag": "ABX9TyPfupy809FoS36Qnn/r/kX4",
      "include_colab_link": true
    },
    "kernelspec": {
      "name": "python3",
      "display_name": "Python 3"
    },
    "language_info": {
      "name": "python"
    }
  },
  "cells": [
    {
      "cell_type": "markdown",
      "metadata": {
        "id": "view-in-github",
        "colab_type": "text"
      },
      "source": [
        "<a href=\"https://colab.research.google.com/github/shahad-jeza/kaust_training/blob/main/summer_basic_code/VAEs.ipynb\" target=\"_parent\"><img src=\"https://colab.research.google.com/assets/colab-badge.svg\" alt=\"Open In Colab\"/></a>"
      ]
    },
    {
      "cell_type": "markdown",
      "source": [
        "# Question"
      ],
      "metadata": {
        "id": "mFCukWSzAIP0"
      }
    },
    {
      "cell_type": "code",
      "execution_count": null,
      "metadata": {
        "id": "d2mV5-BZ6LDP"
      },
      "outputs": [],
      "source": [
        "# One-Hour VAE Practical\n",
        "\n",
        "import torch\n",
        "import torch.nn as nn\n",
        "import torch.optim as optim\n",
        "import torchvision\n",
        "from torchvision import transforms\n",
        "from torch.utils.data import DataLoader\n",
        "\n",
        "# Task 1: Data Preparation (5 minutes)\n",
        "# Use the provided code to load the MNIST dataset\n",
        "transform = transforms.Compose([transforms.ToTensor()])\n",
        "train_dataset = torchvision.datasets.MNIST(root='./data', train=True, download=True, transform=transform)\n",
        "train_loader = DataLoader(train_dataset, batch_size=128, shuffle=True)\n",
        "\n",
        "# Task 2: Implement a Simple VAE (25 minutes)\n",
        "class SimpleVAE(nn.Module):\n",
        "    def __init__(self, latent_dim):\n",
        "        super(SimpleVAE, self).__init__()\n",
        "        # TODO: Implement the encoder (input -> latent)\n",
        "        # TODO: Implement the decoder (latent -> output)\n",
        "\n",
        "    def encode(self, x):\n",
        "        # TODO: Return mean and log variance of the latent space\n",
        "        pass\n",
        "\n",
        "    def decode(self, z):\n",
        "        # TODO: Decode latent vector to image\n",
        "        pass\n",
        "\n",
        "    def reparameterize(self, mu, logvar):\n",
        "        # TODO: Implement the reparameterization trick\n",
        "        pass\n",
        "\n",
        "    def forward(self, x):\n",
        "        # TODO: Implement the forward pass\n",
        "        pass\n",
        "\n",
        "# Task 3: Loss Function and Training (20 minutes)\n",
        "def loss_function(recon_x, x, mu, logvar):\n",
        "    # TODO: Implement VAE loss (reconstruction + KL divergence)\n",
        "    pass\n",
        "\n",
        "def train(model, train_loader, optimizer, epochs=5):\n",
        "    # TODO: Implement the training loop\n",
        "    pass\n",
        "\n",
        "# Task 4: Train and Visualize (10 minutes)\n",
        "vae = SimpleVAE(latent_dim=20)\n",
        "optimizer = optim.Adam(vae.parameters())\n",
        "train(vae, train_loader, optimizer)\n",
        "\n",
        "# TODO: Generate and visualize some reconstructed images\n",
        "# TODO: Generate some new images from random latent vectors"
      ]
    },
    {
      "cell_type": "markdown",
      "source": [
        "\n",
        "\n",
        "---\n",
        "\n"
      ],
      "metadata": {
        "id": "2Sg_JB5DAMj3"
      }
    },
    {
      "cell_type": "markdown",
      "source": [
        "# Solution"
      ],
      "metadata": {
        "id": "wZQ39y18AN6i"
      }
    },
    {
      "cell_type": "code",
      "source": [
        "import torch\n",
        "import torch.nn as nn\n",
        "import torch.optim as optim\n",
        "import torchvision\n",
        "from torchvision import transforms\n",
        "from torch.utils.data import DataLoader"
      ],
      "metadata": {
        "id": "vaxSPyuh6Qgb"
      },
      "execution_count": 1,
      "outputs": []
    },
    {
      "cell_type": "code",
      "source": [
        "# Task 1: Data Preparation\n",
        "# load the MNIST dataset\n",
        "transform = transforms.Compose([transforms.ToTensor()])\n",
        "train_dataset = torchvision.datasets.MNIST(root='./data', train=True, download=True, transform=transform)\n",
        "train_loader = DataLoader(train_dataset, batch_size=128, shuffle=True)"
      ],
      "metadata": {
        "colab": {
          "base_uri": "https://localhost:8080/"
        },
        "collapsed": true,
        "id": "z0wjPV3C6REA",
        "outputId": "3c4d7771-212b-4b51-a797-a4c28f37f926"
      },
      "execution_count": 2,
      "outputs": [
        {
          "output_type": "stream",
          "name": "stdout",
          "text": [
            "Downloading http://yann.lecun.com/exdb/mnist/train-images-idx3-ubyte.gz\n",
            "Failed to download (trying next):\n",
            "HTTP Error 403: Forbidden\n",
            "\n",
            "Downloading https://ossci-datasets.s3.amazonaws.com/mnist/train-images-idx3-ubyte.gz\n",
            "Downloading https://ossci-datasets.s3.amazonaws.com/mnist/train-images-idx3-ubyte.gz to ./data/MNIST/raw/train-images-idx3-ubyte.gz\n"
          ]
        },
        {
          "output_type": "stream",
          "name": "stderr",
          "text": [
            "100%|██████████| 9912422/9912422 [00:00<00:00, 59433863.71it/s]\n"
          ]
        },
        {
          "output_type": "stream",
          "name": "stdout",
          "text": [
            "Extracting ./data/MNIST/raw/train-images-idx3-ubyte.gz to ./data/MNIST/raw\n",
            "\n",
            "Downloading http://yann.lecun.com/exdb/mnist/train-labels-idx1-ubyte.gz\n",
            "Failed to download (trying next):\n",
            "HTTP Error 403: Forbidden\n",
            "\n",
            "Downloading https://ossci-datasets.s3.amazonaws.com/mnist/train-labels-idx1-ubyte.gz\n",
            "Downloading https://ossci-datasets.s3.amazonaws.com/mnist/train-labels-idx1-ubyte.gz to ./data/MNIST/raw/train-labels-idx1-ubyte.gz\n"
          ]
        },
        {
          "output_type": "stream",
          "name": "stderr",
          "text": [
            "100%|██████████| 28881/28881 [00:00<00:00, 2096135.90it/s]"
          ]
        },
        {
          "output_type": "stream",
          "name": "stdout",
          "text": [
            "Extracting ./data/MNIST/raw/train-labels-idx1-ubyte.gz to ./data/MNIST/raw\n",
            "\n",
            "Downloading http://yann.lecun.com/exdb/mnist/t10k-images-idx3-ubyte.gz\n"
          ]
        },
        {
          "output_type": "stream",
          "name": "stderr",
          "text": [
            "\n"
          ]
        },
        {
          "output_type": "stream",
          "name": "stdout",
          "text": [
            "Failed to download (trying next):\n",
            "HTTP Error 403: Forbidden\n",
            "\n",
            "Downloading https://ossci-datasets.s3.amazonaws.com/mnist/t10k-images-idx3-ubyte.gz\n",
            "Downloading https://ossci-datasets.s3.amazonaws.com/mnist/t10k-images-idx3-ubyte.gz to ./data/MNIST/raw/t10k-images-idx3-ubyte.gz\n"
          ]
        },
        {
          "output_type": "stream",
          "name": "stderr",
          "text": [
            "100%|██████████| 1648877/1648877 [00:00<00:00, 14935098.24it/s]\n"
          ]
        },
        {
          "output_type": "stream",
          "name": "stdout",
          "text": [
            "Extracting ./data/MNIST/raw/t10k-images-idx3-ubyte.gz to ./data/MNIST/raw\n",
            "\n",
            "Downloading http://yann.lecun.com/exdb/mnist/t10k-labels-idx1-ubyte.gz\n",
            "Failed to download (trying next):\n",
            "HTTP Error 403: Forbidden\n",
            "\n",
            "Downloading https://ossci-datasets.s3.amazonaws.com/mnist/t10k-labels-idx1-ubyte.gz\n",
            "Downloading https://ossci-datasets.s3.amazonaws.com/mnist/t10k-labels-idx1-ubyte.gz to ./data/MNIST/raw/t10k-labels-idx1-ubyte.gz\n"
          ]
        },
        {
          "output_type": "stream",
          "name": "stderr",
          "text": [
            "100%|██████████| 4542/4542 [00:00<00:00, 8239848.08it/s]"
          ]
        },
        {
          "output_type": "stream",
          "name": "stdout",
          "text": [
            "Extracting ./data/MNIST/raw/t10k-labels-idx1-ubyte.gz to ./data/MNIST/raw\n",
            "\n"
          ]
        },
        {
          "output_type": "stream",
          "name": "stderr",
          "text": [
            "\n"
          ]
        }
      ]
    },
    {
      "cell_type": "code",
      "source": [
        "# Task 2: Implement a Simple VAE\n",
        "class SimpleVAE(nn.Module):\n",
        "    def __init__(self, latent_dim):\n",
        "        super(SimpleVAE, self).__init__()\n",
        "        self.latent_dim = latent_dim\n",
        "        # TODO: Implement the encoder (input -> latent)\n",
        "        self.encoder = nn.Sequential(\n",
        "            nn.Linear(28 * 28, 400),\n",
        "            nn.ReLU(),\n",
        "            nn.Linear(400, latent_dim * 2)\n",
        "        )\n",
        "\n",
        "        # TODO: Implement the decoder (latent -> output)\n",
        "        self.decoder = nn.Sequential(\n",
        "            nn.Linear(latent_dim, 400),\n",
        "            nn.ReLU(),\n",
        "            nn.Linear(400, 28 * 28),\n",
        "            nn.Sigmoid()\n",
        "        )\n",
        "\n",
        "    def encode(self, x):\n",
        "        # TODO: Return mean and log variance of the latent space\n",
        "        x = x.view(-1, 28 * 28)\n",
        "        h = self.encoder(x)\n",
        "        mu, logvar = h.chunk(2, dim=1)\n",
        "        return mu, logvar\n",
        "\n",
        "    def decode(self, z):\n",
        "        # TODO: Decode latent vector to image\n",
        "        return self.decoder(z)\n",
        "\n",
        "    def reparameterize(self, mu, logvar):\n",
        "        # TODO: Implement the reparameterization trick\n",
        "        std = torch.exp(0.5 * logvar)\n",
        "        eps = torch.randn_like(std)\n",
        "        return mu + eps * std\n",
        "\n",
        "    def forward(self, x):\n",
        "        # TODO: Implement the forward pass\n",
        "        mu, logvar = self.encode(x)\n",
        "        z = self.reparameterize(mu, logvar)\n",
        "        return self.decode(z), mu, logvar"
      ],
      "metadata": {
        "id": "_I-nKJYT6XVA"
      },
      "execution_count": 19,
      "outputs": []
    },
    {
      "cell_type": "code",
      "source": [
        "# Task 3: Loss Function\n",
        "def loss_function(recon_x, x, mu, logvar):\n",
        "    BCE = nn.functional.binary_cross_entropy(recon_x, x.view(-1, 28*28), reduction='sum')\n",
        "    KLD = -0.5 * torch.sum(1 + logvar - mu.pow(2) - logvar.exp())\n",
        "    return BCE + KLD"
      ],
      "metadata": {
        "id": "hhzg00IaARRo"
      },
      "execution_count": 20,
      "outputs": []
    },
    {
      "cell_type": "code",
      "source": [
        "def train(model, train_loader, optimizer, epochs=15):\n",
        "    # TODO: Implement the training loop\n",
        "    model.train()\n",
        "\n",
        "    for epoch in range(epochs):\n",
        "        train_loss = 0\n",
        "        for batch_idx, (data, _) in enumerate(train_loader):\n",
        "            optimizer.zero_grad()\n",
        "            recon_batch, mu, logvar = model(data)\n",
        "            loss = loss_function(recon_batch, data, mu, logvar)\n",
        "            loss.backward()\n",
        "            train_loss += loss.item()\n",
        "            optimizer.step()\n",
        "\n",
        "        print(f'Epoch {epoch+1}/{epochs}, Loss: {train_loss / len(train_loader.dataset):.4f}')\n",
        "\n",
        "\n",
        ""
      ],
      "metadata": {
        "id": "lCmN-B3JAeTz"
      },
      "execution_count": 25,
      "outputs": []
    },
    {
      "cell_type": "code",
      "source": [
        "# Task 4: Train and Visualize (10 minutes)\n",
        "vae = SimpleVAE(latent_dim=20)\n",
        "optimizer = optim.Adam(vae.parameters())\n",
        "train(vae, train_loader, optimizer)"
      ],
      "metadata": {
        "colab": {
          "base_uri": "https://localhost:8080/"
        },
        "id": "TAp9_BtbA_Km",
        "outputId": "19ee37ce-92c9-448d-954b-c4fff33300c7"
      },
      "execution_count": 26,
      "outputs": [
        {
          "output_type": "stream",
          "name": "stdout",
          "text": [
            "Epoch 1/15, Loss: 164.9478\n",
            "Epoch 2/15, Loss: 122.2481\n",
            "Epoch 3/15, Loss: 114.7583\n",
            "Epoch 4/15, Loss: 111.7107\n",
            "Epoch 5/15, Loss: 109.9127\n",
            "Epoch 6/15, Loss: 108.6900\n",
            "Epoch 7/15, Loss: 107.8383\n",
            "Epoch 8/15, Loss: 107.2152\n",
            "Epoch 9/15, Loss: 106.6107\n",
            "Epoch 10/15, Loss: 106.1957\n",
            "Epoch 11/15, Loss: 105.8190\n",
            "Epoch 12/15, Loss: 105.4394\n",
            "Epoch 13/15, Loss: 105.2423\n",
            "Epoch 14/15, Loss: 104.9486\n",
            "Epoch 15/15, Loss: 104.6953\n"
          ]
        }
      ]
    },
    {
      "cell_type": "code",
      "source": [
        "# TODO: Generate and visualize some reconstructed images\n",
        "\n",
        "# Visualize reconstructed images\n",
        "import matplotlib.pyplot as plt\n",
        "\n",
        "def visualize_reconstruction(model, data):\n",
        "    model.eval()\n",
        "    with torch.no_grad():\n",
        "        recon_data, _, _ = model(data)\n",
        "\n",
        "    fig, axes = plt.subplots(2, 10, figsize=(20, 4))\n",
        "    for i in range(10):\n",
        "        axes[0, i].imshow(data[i].squeeze().numpy(), cmap='gray')\n",
        "        axes[0, i].axis('off')\n",
        "        axes[1, i].imshow(recon_data[i].view(28, 28).numpy(), cmap='gray')\n",
        "        axes[1, i].axis('off')\n",
        "    plt.show()\n",
        "\n",
        "# Get a batch of test images\n",
        "test_dataset = torchvision.datasets.MNIST(root='./data', train=False, download=True, transform=transform)\n",
        "test_loader = DataLoader(test_dataset, batch_size=10, shuffle=True)\n",
        "test_data = next(iter(test_loader))[0]\n",
        "\n",
        "visualize_reconstruction(vae, test_data)\n"
      ],
      "metadata": {
        "colab": {
          "base_uri": "https://localhost:8080/",
          "height": 285
        },
        "id": "ni-yodkVFZkw",
        "outputId": "688fd5a7-eb8d-4a1e-b4ee-b9760eff13c1"
      },
      "execution_count": 27,
      "outputs": [
        {
          "output_type": "display_data",
          "data": {
            "text/plain": [
              "<Figure size 2000x400 with 20 Axes>"
            ],
            "image/png": "[encoded data removed]"
          },
          "metadata": {}
        }
      ]
    },
    {
      "cell_type": "code",
      "source": [
        "# TODO: Generate some new images from random latent vectors\n",
        "\n",
        "# Generate new images\n",
        "def generate_images(model, num_images=10):\n",
        "    model.eval()\n",
        "    with torch.no_grad():\n",
        "        z = torch.randn(num_images, model.latent_dim)\n",
        "        generated = model.decode(z)\n",
        "\n",
        "    fig, axes = plt.subplots(1, num_images, figsize=(20, 2))\n",
        "    for i in range(num_images):\n",
        "        axes[i].imshow(generated[i].view(28, 28).numpy(), cmap='gray')\n",
        "        axes[i].axis('off')\n",
        "    plt.show()\n",
        "\n",
        "generate_images(vae)"
      ],
      "metadata": {
        "colab": {
          "base_uri": "https://localhost:8080/",
          "height": 144
        },
        "id": "ccdFolBiGJbP",
        "outputId": "68057056-1439-44a9-a69a-f65f0d87591f"
      },
      "execution_count": 28,
      "outputs": [
        {
          "output_type": "display_data",
          "data": {
            "text/plain": [
              "<Figure size 2000x200 with 10 Axes>"
            ],
            "image/png": "[encoded data removed]"
          },
          "metadata": {}
        }
      ]
    }
  ]
}