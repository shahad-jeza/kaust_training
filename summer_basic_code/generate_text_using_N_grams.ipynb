{
  "nbformat": 4,
  "nbformat_minor": 0,
  "metadata": {
    "colab": {
      "provenance": [],
      "authorship_tag": "ABX9TyNWj242cBc8aB7IpB1Q+5eX",
      "include_colab_link": true
    },
    "kernelspec": {
      "name": "python3",
      "display_name": "Python 3"
    },
    "language_info": {
      "name": "python"
    }
  },
  "cells": [
    {
      "cell_type": "markdown",
      "metadata": {
        "id": "view-in-github",
        "colab_type": "text"
      },
      "source": [
        "<a href=\"https://colab.research.google.com/github/shahad-jeza/kaust_training/blob/main/summer_basic_code/generate_text_using_N_grams.ipynb\" target=\"_parent\"><img src=\"https://colab.research.google.com/assets/colab-badge.svg\" alt=\"Open In Colab\"/></a>"
      ]
    },
    {
      "cell_type": "code",
      "execution_count": 1,
      "metadata": {
        "colab": {
          "base_uri": "https://localhost:8080/"
        },
        "id": "-6F6z4-w48pQ",
        "outputId": "dd2d3114-4c97-40ae-dc66-f5ecee9ef2e4"
      },
      "outputs": [
        {
          "output_type": "stream",
          "name": "stdout",
          "text": [
            "Requirement already satisfied: nltk in /usr/local/lib/python3.10/dist-packages (3.8.1)\n",
            "Requirement already satisfied: kaggle in /usr/local/lib/python3.10/dist-packages (1.6.17)\n",
            "Requirement already satisfied: click in /usr/local/lib/python3.10/dist-packages (from nltk) (8.1.7)\n",
            "Requirement already satisfied: joblib in /usr/local/lib/python3.10/dist-packages (from nltk) (1.4.2)\n",
            "Requirement already satisfied: regex>=2021.8.3 in /usr/local/lib/python3.10/dist-packages (from nltk) (2024.5.15)\n",
            "Requirement already satisfied: tqdm in /usr/local/lib/python3.10/dist-packages (from nltk) (4.66.4)\n",
            "Requirement already satisfied: six>=1.10 in /usr/local/lib/python3.10/dist-packages (from kaggle) (1.16.0)\n",
            "Requirement already satisfied: certifi>=2023.7.22 in /usr/local/lib/python3.10/dist-packages (from kaggle) (2024.7.4)\n",
            "Requirement already satisfied: python-dateutil in /usr/local/lib/python3.10/dist-packages (from kaggle) (2.8.2)\n",
            "Requirement already satisfied: requests in /usr/local/lib/python3.10/dist-packages (from kaggle) (2.31.0)\n",
            "Requirement already satisfied: python-slugify in /usr/local/lib/python3.10/dist-packages (from kaggle) (8.0.4)\n",
            "Requirement already satisfied: urllib3 in /usr/local/lib/python3.10/dist-packages (from kaggle) (2.0.7)\n",
            "Requirement already satisfied: bleach in /usr/local/lib/python3.10/dist-packages (from kaggle) (6.1.0)\n",
            "Requirement already satisfied: webencodings in /usr/local/lib/python3.10/dist-packages (from bleach->kaggle) (0.5.1)\n",
            "Requirement already satisfied: text-unidecode>=1.3 in /usr/local/lib/python3.10/dist-packages (from python-slugify->kaggle) (1.3)\n",
            "Requirement already satisfied: charset-normalizer<4,>=2 in /usr/local/lib/python3.10/dist-packages (from requests->kaggle) (3.3.2)\n",
            "Requirement already satisfied: idna<4,>=2.5 in /usr/local/lib/python3.10/dist-packages (from requests->kaggle) (3.7)\n"
          ]
        }
      ],
      "source": [
        "!pip install nltk kaggle"
      ]
    },
    {
      "cell_type": "code",
      "source": [
        "import os\n",
        "\n",
        "os.environ['KAGGLE_CONFIG_DIR'] = '/path/to/your/kaggle.json'\n",
        "\n",
        "# Download the dataset\n",
        "!kaggle datasets download -d jrobischon/wikipedia-movie-plots\n",
        "\n",
        "# Unzip the dataset\n",
        "import zipfile\n",
        "with zipfile.ZipFile('wikipedia-movie-plots.zip', 'r') as zip_ref:\n",
        "    zip_ref.extractall('data')"
      ],
      "metadata": {
        "colab": {
          "base_uri": "https://localhost:8080/"
        },
        "id": "pPphWiOF5JaH",
        "outputId": "8919a9d2-cde7-4be8-9b19-cd65a605d59f"
      },
      "execution_count": 2,
      "outputs": [
        {
          "output_type": "stream",
          "name": "stdout",
          "text": [
            "Dataset URL: https://www.kaggle.com/datasets/jrobischon/wikipedia-movie-plots\n",
            "License(s): CC-BY-SA-4.0\n",
            "Downloading wikipedia-movie-plots.zip to /content\n",
            "100% 29.9M/29.9M [00:00<00:00, 103MB/s] \n",
            "100% 29.9M/29.9M [00:00<00:00, 92.7MB/s]\n"
          ]
        }
      ]
    },
    {
      "cell_type": "code",
      "source": [
        "import numpy as np\n",
        "import pandas as pd\n",
        "import nltk\n",
        "from collections import defaultdict\n",
        "from nltk.tokenize import word_tokenize\n",
        "import matplotlib.pyplot as plt"
      ],
      "metadata": {
        "id": "17je5p3x5WG7"
      },
      "execution_count": 3,
      "outputs": []
    },
    {
      "cell_type": "code",
      "source": [
        "nltk.download('punkt')\n",
        "nltk.download('words')"
      ],
      "metadata": {
        "colab": {
          "base_uri": "https://localhost:8080/"
        },
        "id": "50GImlcf5ZIK",
        "outputId": "736840e5-9b93-4110-e4d2-0727b4f0eede"
      },
      "execution_count": 4,
      "outputs": [
        {
          "output_type": "stream",
          "name": "stderr",
          "text": [
            "[nltk_data] Downloading package punkt to /root/nltk_data...\n",
            "[nltk_data]   Unzipping tokenizers/punkt.zip.\n",
            "[nltk_data] Downloading package words to /root/nltk_data...\n",
            "[nltk_data]   Unzipping corpora/words.zip.\n"
          ]
        },
        {
          "output_type": "execute_result",
          "data": {
            "text/plain": [
              "True"
            ]
          },
          "metadata": {},
          "execution_count": 4
        }
      ]
    },
    {
      "cell_type": "code",
      "source": [
        "df = pd.read_csv('data/wiki_movie_plots_deduped.csv')"
      ],
      "metadata": {
        "id": "ns563ZMV5bxL"
      },
      "execution_count": 5,
      "outputs": []
    },
    {
      "cell_type": "code",
      "source": [
        "df.head()"
      ],
      "metadata": {
        "colab": {
          "base_uri": "https://localhost:8080/",
          "height": 501
        },
        "id": "0LAHJ6r05dmX",
        "outputId": "567ca4ba-4201-42cb-fca6-7efc1bdc29b2"
      },
      "execution_count": 6,
      "outputs": [
        {
          "output_type": "execute_result",
          "data": {
            "text/plain": [
              "   Release Year                             Title Origin/Ethnicity  \\\n",
              "0          1901            Kansas Saloon Smashers         American   \n",
              "1          1901     Love by the Light of the Moon         American   \n",
              "2          1901           The Martyred Presidents         American   \n",
              "3          1901  Terrible Teddy, the Grizzly King         American   \n",
              "4          1902            Jack and the Beanstalk         American   \n",
              "\n",
              "                             Director Cast    Genre  \\\n",
              "0                             Unknown  NaN  unknown   \n",
              "1                             Unknown  NaN  unknown   \n",
              "2                             Unknown  NaN  unknown   \n",
              "3                             Unknown  NaN  unknown   \n",
              "4  George S. Fleming, Edwin S. Porter  NaN  unknown   \n",
              "\n",
              "                                           Wiki Page  \\\n",
              "0  https://en.wikipedia.org/wiki/Kansas_Saloon_Sm...   \n",
              "1  https://en.wikipedia.org/wiki/Love_by_the_Ligh...   \n",
              "2  https://en.wikipedia.org/wiki/The_Martyred_Pre...   \n",
              "3  https://en.wikipedia.org/wiki/Terrible_Teddy,_...   \n",
              "4  https://en.wikipedia.org/wiki/Jack_and_the_Bea...   \n",
              "\n",
              "                                                Plot  \n",
              "0  A bartender is working at a saloon, serving dr...  \n",
              "1  The moon, painted with a smiling face hangs ov...  \n",
              "2  The film, just over a minute long, is composed...  \n",
              "3  Lasting just 61 seconds and consisting of two ...  \n",
              "4  The earliest known adaptation of the classic f...  "
            ],
            "text/html": [
              "\n",
              "  <div id=\"df-1ad9136e-a54d-4e84-8a99-0a7232f1c318\" class=\"colab-df-container\">\n",
              "    <div>\n",
              "<style scoped>\n",
              "    .dataframe tbody tr th:only-of-type {\n",
              "        vertical-align: middle;\n",
              "    }\n",
              "\n",
              "    .dataframe tbody tr th {\n",
              "        vertical-align: top;\n",
              "    }\n",
              "\n",
              "    .dataframe thead th {\n",
              "        text-align: right;\n",
              "    }\n",
              "</style>\n",
              "<table border=\"1\" class=\"dataframe\">\n",
              "  <thead>\n",
              "    <tr style=\"text-align: right;\">\n",
              "      <th></th>\n",
              "      <th>Release Year</th>\n",
              "      <th>Title</th>\n",
              "      <th>Origin/Ethnicity</th>\n",
              "      <th>Director</th>\n",
              "      <th>Cast</th>\n",
              "      <th>Genre</th>\n",
              "      <th>Wiki Page</th>\n",
              "      <th>Plot</th>\n",
              "    </tr>\n",
              "  </thead>\n",
              "  <tbody>\n",
              "    <tr>\n",
              "      <th>0</th>\n",
              "      <td>1901</td>\n",
              "      <td>Kansas Saloon Smashers</td>\n",
              "      <td>American</td>\n",
              "      <td>Unknown</td>\n",
              "      <td>NaN</td>\n",
              "      <td>unknown</td>\n",
              "      <td>https://en.wikipedia.org/wiki/Kansas_Saloon_Sm...</td>\n",
              "      <td>A bartender is working at a saloon, serving dr...</td>\n",
              "    </tr>\n",
              "    <tr>\n",
              "      <th>1</th>\n",
              "      <td>1901</td>\n",
              "      <td>Love by the Light of the Moon</td>\n",
              "      <td>American</td>\n",
              "      <td>Unknown</td>\n",
              "      <td>NaN</td>\n",
              "      <td>unknown</td>\n",
              "      <td>https://en.wikipedia.org/wiki/Love_by_the_Ligh...</td>\n",
              "      <td>The moon, painted with a smiling face hangs ov...</td>\n",
              "    </tr>\n",
              "    <tr>\n",
              "      <th>2</th>\n",
              "      <td>1901</td>\n",
              "      <td>The Martyred Presidents</td>\n",
              "      <td>American</td>\n",
              "      <td>Unknown</td>\n",
              "      <td>NaN</td>\n",
              "      <td>unknown</td>\n",
              "      <td>https://en.wikipedia.org/wiki/The_Martyred_Pre...</td>\n",
              "      <td>The film, just over a minute long, is composed...</td>\n",
              "    </tr>\n",
              "    <tr>\n",
              "      <th>3</th>\n",
              "      <td>1901</td>\n",
              "      <td>Terrible Teddy, the Grizzly King</td>\n",
              "      <td>American</td>\n",
              "      <td>Unknown</td>\n",
              "      <td>NaN</td>\n",
              "      <td>unknown</td>\n",
              "      <td>https://en.wikipedia.org/wiki/Terrible_Teddy,_...</td>\n",
              "      <td>Lasting just 61 seconds and consisting of two ...</td>\n",
              "    </tr>\n",
              "    <tr>\n",
              "      <th>4</th>\n",
              "      <td>1902</td>\n",
              "      <td>Jack and the Beanstalk</td>\n",
              "      <td>American</td>\n",
              "      <td>George S. Fleming, Edwin S. Porter</td>\n",
              "      <td>NaN</td>\n",
              "      <td>unknown</td>\n",
              "      <td>https://en.wikipedia.org/wiki/Jack_and_the_Bea...</td>\n",
              "      <td>The earliest known adaptation of the classic f...</td>\n",
              "    </tr>\n",
              "  </tbody>\n",
              "</table>\n",
              "</div>\n",
              "    <div class=\"colab-df-buttons\">\n",
              "\n",
              "  <div class=\"colab-df-container\">\n",
              "    <button class=\"colab-df-convert\" onclick=\"convertToInteractive('df-1ad9136e-a54d-4e84-8a99-0a7232f1c318')\"\n",
              "            title=\"Convert this dataframe to an interactive table.\"\n",
              "            style=\"display:none;\">\n",
              "\n",
              "  <svg xmlns=\"http://www.w3.org/2000/svg\" height=\"24px\" viewBox=\"0 -960 960 960\">\n",
              "    <path d=\"M120-120v-720h720v720H120Zm60-500h600v-160H180v160Zm220 220h160v-160H400v160Zm0 220h160v-160H400v160ZM180-400h160v-160H180v160Zm440 0h160v-160H620v160ZM180-180h160v-160H180v160Zm440 0h160v-160H620v160Z\"/>\n",
              "  </svg>\n",
              "    </button>\n",
              "\n",
              "  <style>\n",
              "    .colab-df-container {\n",
              "      display:flex;\n",
              "      gap: 12px;\n",
              "    }\n",
              "\n",
              "    .colab-df-convert {\n",
              "      background-color: #E8F0FE;\n",
              "      border: none;\n",
              "      border-radius: 50%;\n",
              "      cursor: pointer;\n",
              "      display: none;\n",
              "      fill: #1967D2;\n",
              "      height: 32px;\n",
              "      padding: 0 0 0 0;\n",
              "      width: 32px;\n",
              "    }\n",
              "\n",
              "    .colab-df-convert:hover {\n",
              "      background-color: #E2EBFA;\n",
              "      box-shadow: 0px 1px 2px rgba(60, 64, 67, 0.3), 0px 1px 3px 1px rgba(60, 64, 67, 0.15);\n",
              "      fill: #174EA6;\n",
              "    }\n",
              "\n",
              "    .colab-df-buttons div {\n",
              "      margin-bottom: 4px;\n",
              "    }\n",
              "\n",
              "    [theme=dark] .colab-df-convert {\n",
              "      background-color: #3B4455;\n",
              "      fill: #D2E3FC;\n",
              "    }\n",
              "\n",
              "    [theme=dark] .colab-df-convert:hover {\n",
              "      background-color: #434B5C;\n",
              "      box-shadow: 0px 1px 3px 1px rgba(0, 0, 0, 0.15);\n",
              "      filter: drop-shadow(0px 1px 2px rgba(0, 0, 0, 0.3));\n",
              "      fill: #FFFFFF;\n",
              "    }\n",
              "  </style>\n",
              "\n",
              "    <script>\n",
              "      const buttonEl =\n",
              "        document.querySelector('#df-1ad9136e-a54d-4e84-8a99-0a7232f1c318 button.colab-df-convert');\n",
              "      buttonEl.style.display =\n",
              "        google.colab.kernel.accessAllowed ? 'block' : 'none';\n",
              "\n",
              "      async function convertToInteractive(key) {\n",
              "        const element = document.querySelector('#df-1ad9136e-a54d-4e84-8a99-0a7232f1c318');\n",
              "        const dataTable =\n",
              "          await google.colab.kernel.invokeFunction('convertToInteractive',\n",
              "                                                    [key], {});\n",
              "        if (!dataTable) return;\n",
              "\n",
              "        const docLinkHtml = 'Like what you see? Visit the ' +\n",
              "          '<a target=\"_blank\" href=https://colab.research.google.com/notebooks/data_table.ipynb>data table notebook</a>'\n",
              "          + ' to learn more about interactive tables.';\n",
              "        element.innerHTML = '';\n",
              "        dataTable['output_type'] = 'display_data';\n",
              "        await google.colab.output.renderOutput(dataTable, element);\n",
              "        const docLink = document.createElement('div');\n",
              "        docLink.innerHTML = docLinkHtml;\n",
              "        element.appendChild(docLink);\n",
              "      }\n",
              "    </script>\n",
              "  </div>\n",
              "\n",
              "\n",
              "<div id=\"df-65b898d2-5500-4b78-8127-1fecebe53a28\">\n",
              "  <button class=\"colab-df-quickchart\" onclick=\"quickchart('df-65b898d2-5500-4b78-8127-1fecebe53a28')\"\n",
              "            title=\"Suggest charts\"\n",
              "            style=\"display:none;\">\n",
              "\n",
              "<svg xmlns=\"http://www.w3.org/2000/svg\" height=\"24px\"viewBox=\"0 0 24 24\"\n",
              "     width=\"24px\">\n",
              "    <g>\n",
              "        <path d=\"M19 3H5c-1.1 0-2 .9-2 2v14c0 1.1.9 2 2 2h14c1.1 0 2-.9 2-2V5c0-1.1-.9-2-2-2zM9 17H7v-7h2v7zm4 0h-2V7h2v10zm4 0h-2v-4h2v4z\"/>\n",
              "    </g>\n",
              "</svg>\n",
              "  </button>\n",
              "\n",
              "<style>\n",
              "  .colab-df-quickchart {\n",
              "      --bg-color: #E8F0FE;\n",
              "      --fill-color: #1967D2;\n",
              "      --hover-bg-color: #E2EBFA;\n",
              "      --hover-fill-color: #174EA6;\n",
              "      --disabled-fill-color: #AAA;\n",
              "      --disabled-bg-color: #DDD;\n",
              "  }\n",
              "\n",
              "  [theme=dark] .colab-df-quickchart {\n",
              "      --bg-color: #3B4455;\n",
              "      --fill-color: #D2E3FC;\n",
              "      --hover-bg-color: #434B5C;\n",
              "      --hover-fill-color: #FFFFFF;\n",
              "      --disabled-bg-color: #3B4455;\n",
              "      --disabled-fill-color: #666;\n",
              "  }\n",
              "\n",
              "  .colab-df-quickchart {\n",
              "    background-color: var(--bg-color);\n",
              "    border: none;\n",
              "    border-radius: 50%;\n",
              "    cursor: pointer;\n",
              "    display: none;\n",
              "    fill: var(--fill-color);\n",
              "    height: 32px;\n",
              "    padding: 0;\n",
              "    width: 32px;\n",
              "  }\n",
              "\n",
              "  .colab-df-quickchart:hover {\n",
              "    background-color: var(--hover-bg-color);\n",
              "    box-shadow: 0 1px 2px rgba(60, 64, 67, 0.3), 0 1px 3px 1px rgba(60, 64, 67, 0.15);\n",
              "    fill: var(--button-hover-fill-color);\n",
              "  }\n",
              "\n",
              "  .colab-df-quickchart-complete:disabled,\n",
              "  .colab-df-quickchart-complete:disabled:hover {\n",
              "    background-color: var(--disabled-bg-color);\n",
              "    fill: var(--disabled-fill-color);\n",
              "    box-shadow: none;\n",
              "  }\n",
              "\n",
              "  .colab-df-spinner {\n",
              "    border: 2px solid var(--fill-color);\n",
              "    border-color: transparent;\n",
              "    border-bottom-color: var(--fill-color);\n",
              "    animation:\n",
              "      spin 1s steps(1) infinite;\n",
              "  }\n",
              "\n",
              "  @keyframes spin {\n",
              "    0% {\n",
              "      border-color: transparent;\n",
              "      border-bottom-color: var(--fill-color);\n",
              "      border-left-color: var(--fill-color);\n",
              "    }\n",
              "    20% {\n",
              "      border-color: transparent;\n",
              "      border-left-color: var(--fill-color);\n",
              "      border-top-color: var(--fill-color);\n",
              "    }\n",
              "    30% {\n",
              "      border-color: transparent;\n",
              "      border-left-color: var(--fill-color);\n",
              "      border-top-color: var(--fill-color);\n",
              "      border-right-color: var(--fill-color);\n",
              "    }\n",
              "    40% {\n",
              "      border-color: transparent;\n",
              "      border-right-color: var(--fill-color);\n",
              "      border-top-color: var(--fill-color);\n",
              "    }\n",
              "    60% {\n",
              "      border-color: transparent;\n",
              "      border-right-color: var(--fill-color);\n",
              "    }\n",
              "    80% {\n",
              "      border-color: transparent;\n",
              "      border-right-color: var(--fill-color);\n",
              "      border-bottom-color: var(--fill-color);\n",
              "    }\n",
              "    90% {\n",
              "      border-color: transparent;\n",
              "      border-bottom-color: var(--fill-color);\n",
              "    }\n",
              "  }\n",
              "</style>\n",
              "\n",
              "  <script>\n",
              "    async function quickchart(key) {\n",
              "      const quickchartButtonEl =\n",
              "        document.querySelector('#' + key + ' button');\n",
              "      quickchartButtonEl.disabled = true;  // To prevent multiple clicks.\n",
              "      quickchartButtonEl.classList.add('colab-df-spinner');\n",
              "      try {\n",
              "        const charts = await google.colab.kernel.invokeFunction(\n",
              "            'suggestCharts', [key], {});\n",
              "      } catch (error) {\n",
              "        console.error('Error during call to suggestCharts:', error);\n",
              "      }\n",
              "      quickchartButtonEl.classList.remove('colab-df-spinner');\n",
              "      quickchartButtonEl.classList.add('colab-df-quickchart-complete');\n",
              "    }\n",
              "    (() => {\n",
              "      let quickchartButtonEl =\n",
              "        document.querySelector('#df-65b898d2-5500-4b78-8127-1fecebe53a28 button');\n",
              "      quickchartButtonEl.style.display =\n",
              "        google.colab.kernel.accessAllowed ? 'block' : 'none';\n",
              "    })();\n",
              "  </script>\n",
              "</div>\n",
              "\n",
              "    </div>\n",
              "  </div>\n"
            ],
            "application/vnd.google.colaboratory.intrinsic+json": {
              "type": "dataframe",
              "variable_name": "df",
              "summary": "{\n  \"name\": \"df\",\n  \"rows\": 34886,\n  \"fields\": [\n    {\n      \"column\": \"Release Year\",\n      \"properties\": {\n        \"dtype\": \"number\",\n        \"std\": 27,\n        \"min\": 1901,\n        \"max\": 2017,\n        \"num_unique_values\": 117,\n        \"samples\": [\n          1945,\n          1905,\n          1954\n        ],\n        \"semantic_type\": \"\",\n        \"description\": \"\"\n      }\n    },\n    {\n      \"column\": \"Title\",\n      \"properties\": {\n        \"dtype\": \"string\",\n        \"num_unique_values\": 32432,\n        \"samples\": [\n          \"Mayalodu\",\n          \"Dikari\",\n          \"En Rathathin Rathame\"\n        ],\n        \"semantic_type\": \"\",\n        \"description\": \"\"\n      }\n    },\n    {\n      \"column\": \"Origin/Ethnicity\",\n      \"properties\": {\n        \"dtype\": \"category\",\n        \"num_unique_values\": 24,\n        \"samples\": [\n          \"Filipino\",\n          \"Tamil\",\n          \"American\"\n        ],\n        \"semantic_type\": \"\",\n        \"description\": \"\"\n      }\n    },\n    {\n      \"column\": \"Director\",\n      \"properties\": {\n        \"dtype\": \"category\",\n        \"num_unique_values\": 12593,\n        \"samples\": [\n          \"B. S. Narayana\",\n          \"Ravi Kinnagi\",\n          \"Steve Buscemi\"\n        ],\n        \"semantic_type\": \"\",\n        \"description\": \"\"\n      }\n    },\n    {\n      \"column\": \"Cast\",\n      \"properties\": {\n        \"dtype\": \"string\",\n        \"num_unique_values\": 32182,\n        \"samples\": [\n          \"Sivaji Ganesan, K. R. Vijaya, Sripriya\",\n          \"Corbin Bernsen, Dennis Haysbert, Scott Bakula, Bob Uecker\",\n          \"Paul Douglas, Richard Basehart\"\n        ],\n        \"semantic_type\": \"\",\n        \"description\": \"\"\n      }\n    },\n    {\n      \"column\": \"Genre\",\n      \"properties\": {\n        \"dtype\": \"category\",\n        \"num_unique_values\": 2265,\n        \"samples\": [\n          \"comedy/drama/action\",\n          \"drama / suspense / fantasy / costume\",\n          \"comedy, anthology\"\n        ],\n        \"semantic_type\": \"\",\n        \"description\": \"\"\n      }\n    },\n    {\n      \"column\": \"Wiki Page\",\n      \"properties\": {\n        \"dtype\": \"string\",\n        \"num_unique_values\": 34070,\n        \"samples\": [\n          \"https://en.wikipedia.org/wiki/Two_Thousand_and_None\",\n          \"https://en.wikipedia.org/wiki/Death_Note_2:_The_Last_Name\",\n          \"https://en.wikipedia.org/wiki/Contagion_(film)\"\n        ],\n        \"semantic_type\": \"\",\n        \"description\": \"\"\n      }\n    },\n    {\n      \"column\": \"Plot\",\n      \"properties\": {\n        \"dtype\": \"string\",\n        \"num_unique_values\": 33869,\n        \"samples\": [\n          \"In Spain 1519, two con artists, Tulio and Miguel, win a map to the legendary City of Gold, El Dorado, in a rigged dice gamble. After their con is exposed, the two evade the guards and hide aboard one of the ships to be led by Hern\\u00e1n Cort\\u00e9s for the New World. During the voyage, they are caught as stowaways and imprisoned, but break free and take a rowboat with the help of Cort\\u00e9s' horse, Altivo.\\r\\nThey reach an unknown shore at the edge of Mexico, where Miguel begins to recognize landmarks from the map, leading them to a totem marker near a waterfall that Tulio believes is a dead end. As they prepare to leave, they encounter a native woman, Chel, being chased by guards. When the guards see Tulio and Miguel riding Altivo as depicted on the totem, they escort them and Chel to a secret entrance behind the falls, into El Dorado. They are brought to the city's elders, kindhearted Chief Tannabok and wicked high priest Tzekel-Kan. The pair are mistaken for gods and given luxurious quarters, along with the charge of Chel. Chel discovers the two are conning the people but promises to remain quiet if they take her with them when they leave the city. The two are showered with gifts of gold from Tannabok, but disapprove of Tzekel-Kan attempting to sacrifice a civilian as the gods' ritual.\\r\\nTulio instructs Tannabok to build them a boat so that they can leave the city with all the gifts they have been given. During the three days this will take, Miguel explores the city, and Chel gets romantically close to Tulio. Miguel comes to appreciate the peaceful life the citizens seem to enjoy. When Tzekel-Kan sees Miguel playing a ball game with children, he insists the gods demonstrate their powers against the city's best players in the same game. Tulio and Miguel are far outmatched, but Chel is able to substitute the ball with an armadillo, allowing them to win. Miguel spares the ritual of sacrificing the losing team and chastises Tzekel-Kan, much to the crowd's approval. Tzekel-Kan notices Miguel received a small cut and realizes the two are not gods, because gods do not bleed. Tzekel-Kan conjures a giant stone jaguar to chase them through the city. Tulio and Miguel outwit the jaguar, causing it and Tzekel-Kan to fall into a giant whirlpool, thought to be the entrance to Xibalba. Tzekel-Kan then surfaces in the jungle, where he encounters Cort\\u00e9s and his men. Thinking Cort\\u00e9s is a god, he offers to lead them to El Dorado.\\r\\nWith the boat completed, Miguel says he will stay in the city. As Tulio and Chel board the boat, they see smoke on the horizon and realize Cort\\u00e9s is close. Tulio suggests using the boat to ram rock pillars under the waterfall and block the main entrance to the city. The plan succeeds with the citizens pulling over a statue in the boat's wake to give it enough speed. As the statue starts to fall too quickly, Tulio has difficulty in preparing the boat's sail. Giving up on staying in the city, Miguel and Altivo jump onto the boat to unfurl the sails, assuring the boat clears the statue in time. The group successfully crashes against the pillars, causing a cave-in but losing all their gifts in the process. They hide near the totem, just as Cort\\u00e9s' men and Tzekel-Kan arrive. When Tzekel-Kan finds the entrance blocked, Cort\\u00e9s brands him a liar, and takes Tzekel-Kan prisoner as they leave.\\r\\nTulio and Miguel, though disappointed they lost the gold (unaware that Altivo still wears the golden horseshoes with which he was outfitted in El Dorado), head in a different direction for a new adventure with Chel.\",\n          \"First Lieutenant Shunichi Maki of the Japan Air Self-Defense Force is a prestigious F-15 Eagle jet pilot. A lifelong fan of flying since he was a child, being a pilot is his ultimate dream. Unfortunately, his duties distance himself from his wife, Yoko, who feels neglected, and his son, Tsugumu, who has a possibly terminal congenital blood disease.\\r\\nMaki decides to quit the Air Force to devote more time to his family and to spend whatever time is left with his son. He takes a part-time job as a commercial tour guide for a kindly group of people who allow him time to take care of his family.\\r\\nPrior to quitting, Maki and his flight partner Yamashima are alerted to a strange red light streaking towards Japan, and Maki's plane passes through the red light seemingly without any damage. He suffers no ill effects other than strange images briefly playing out in his mind. He later discovers that the images are telepathic messages from a strange being that exists in the red light.\",\n          \"Sergeant Deadhead is a bumbling soldier who is sent to the guardhouse for blowing up a model rocket on the parade ground of the air base where he is stationed. His fianc\\u00e9e, Airman Lucy Turner despairs of ever marrying him because of him being constantly disciplined for his antics. She is worried that she will have to marry him while he is in the guardhouse.\\r\\nTogether with Private McEvoy, Sergeant Deadhead escapes from the guardhouse. Private McEvoy decides to break back in, but Sergeant Deadhead hides in a nearby space rocket, not knowing it is set to blast off with a chimpanzee aboard. He falls asleep in the rocket's control room and is accidentally blasted into space, together with the chimpanzee.\\r\\nWhen Sergeant Deadhead is discovered to be aboard the rocket, General Fogg decides to spin the facts and say that Sergeant Deadhead volunteered for the mission. He and Navy Captain Weiskopf also decide that Sergeant Deadhead and Airman Turner will have a well publicized wedding on the air base when Sergeant Deadhead returns to earth.\\r\\nWhen Sergeant Deadhead returns home he is a national hero but has also developed a massive ego due to space travel causing his personality to blend with that of the chimpanzee, and the realization that he has become a media sensation.\\r\\nA soldier who looks exactly like him, Sergeant Donovan, is found to take his place. When the smooth talking Sergeant Donovan is set to take Sergeant Deadhead's place at the altar, Sergeant Deadhead breaks out of the guardhouse, starts to recover his personality, and switches places with Sergeant Donovan. When the leadership realizes he has escaped the guardhouse, he runs away.\\r\\nSergeant Deadhead finds out about Sergeant Donovan, and goes to the hotel where the wedding reception and honeymoon are taking place. There he switches places with Sergeant Donovan to enjoy his honeymoon. However, General Fogg and the others find Donovan and take him back to the honeymoon suite, looking for Deadhead. Thinking Donovan is Deadhead, Airman Turner chases them out.\\r\\nWhen Airman Turner is preparing a bath for Donovan, Deadhead sneaks in the window and coldcocks Donovan with a vase, knocking him out. Fogg, Weiskopf and the others show up again at the door, claiming to have a message from the President. Thinking that Deadhead is Donovan, Fogg and Weiskopf have two MP's escort Deadhead and Turner to the airport to fly to see the President. Donovan awakes alone in the closet, then goes back to base where Fogg and Weiskopf discover that Deadhead is with Turner and going to meet the President. Deadhead and Turner enjoy the rest of their honeymoon and their meeting with the President.\\r\\nTwo marines appear to arrest Deadhead but mistakenly arrest the President, who is trying on Deadhead's space helmet. Deadhead and Turner escape in a White House helicopter. Fogg, Weiskopf and the others end up in the guardhouse.\"\n        ],\n        \"semantic_type\": \"\",\n        \"description\": \"\"\n      }\n    }\n  ]\n}"
            }
          },
          "metadata": {},
          "execution_count": 6
        }
      ]
    },
    {
      "cell_type": "code",
      "source": [
        "# Concatenate all plot summaries into one text\n",
        "text = ' '.join(df['Plot'].astype(str).tolist())"
      ],
      "metadata": {
        "id": "YyyR4ODq5ihh"
      },
      "execution_count": 7,
      "outputs": []
    },
    {
      "cell_type": "code",
      "source": [
        "# Preprocess the text\n",
        "tokens = word_tokenize(text.lower())\n",
        "print(f'Total tokens: {len(tokens)}')"
      ],
      "metadata": {
        "colab": {
          "base_uri": "https://localhost:8080/"
        },
        "id": "yeu9gImc5oUp",
        "outputId": "7c5f623f-47a8-4f18-c48f-f09e3ba3b11d"
      },
      "execution_count": 8,
      "outputs": [
        {
          "output_type": "stream",
          "name": "stdout",
          "text": [
            "Total tokens: 14986372\n"
          ]
        }
      ]
    },
    {
      "cell_type": "code",
      "source": [
        "# generate N-grams\n",
        "def generate_ngrams(tokens, n):\n",
        "    ngrams = zip(*[tokens[i:] for i in range(n)])\n",
        "    return [' '.join(ngram) for ngram in ngrams]"
      ],
      "metadata": {
        "id": "y2j4Z54R5tpA"
      },
      "execution_count": 9,
      "outputs": []
    },
    {
      "cell_type": "code",
      "source": [
        "# Generate bigrams (N=2)\n",
        "N = 2\n",
        "ngrams = generate_ngrams(tokens, N)\n",
        "print(f'Total {N}-grams: {len(ngrams)}')"
      ],
      "metadata": {
        "colab": {
          "base_uri": "https://localhost:8080/"
        },
        "id": "ztaLoZGr5yRx",
        "outputId": "9f785011-e62b-4b12-8f80-c18b4c5509de"
      },
      "execution_count": 10,
      "outputs": [
        {
          "output_type": "stream",
          "name": "stdout",
          "text": [
            "Total 2-grams: 14986371\n"
          ]
        }
      ]
    },
    {
      "cell_type": "code",
      "source": [
        "# Build N-gram Model\n",
        "ngram_model = defaultdict(lambda: defaultdict(lambda: 0))\n",
        "\n",
        "for i in range(len(tokens) - N):\n",
        "    ngram = ' '.join(tokens[i:i+N-1])\n",
        "    next_word = tokens[i+N-1]\n",
        "    ngram_model[ngram][next_word] += 1"
      ],
      "metadata": {
        "id": "kf0gQiDc52WJ"
      },
      "execution_count": 11,
      "outputs": []
    },
    {
      "cell_type": "code",
      "source": [
        "#  Normalize the Frequencies\n",
        "for ngram, next_words in ngram_model.items():\n",
        "    total_count = float(sum(next_words.values()))\n",
        "    for word in next_words:\n",
        "        ngram_model[ngram][word] /= total_count"
      ],
      "metadata": {
        "id": "JJF52zWD59QW"
      },
      "execution_count": 12,
      "outputs": []
    },
    {
      "cell_type": "code",
      "source": [
        "# generate text\n",
        "def generate_text(ngram_model, start_text, num_words):\n",
        "    current_ngram = ' '.join(word_tokenize(start_text.lower())[:N-1])\n",
        "    generated_text = start_text\n",
        "\n",
        "    for _ in range(num_words):\n",
        "        if current_ngram not in ngram_model:\n",
        "            break\n",
        "        next_word = np.random.choice(list(ngram_model[current_ngram].keys()), p=list(ngram_model[current_ngram].values()))\n",
        "        generated_text += ' ' + next_word\n",
        "        current_ngram = ' '.join(generated_text.split()[-(N-1):])\n",
        "\n",
        "    return generated_text"
      ],
      "metadata": {
        "id": "RVKHY5566Aql"
      },
      "execution_count": 13,
      "outputs": []
    },
    {
      "cell_type": "code",
      "source": [
        "# Generate a text sequence starting with a given seed text\n",
        "start_text = \"Once upon\"\n",
        "num_words_to_generate = 20\n",
        "generated_text = generate_text(ngram_model, start_text, num_words_to_generate)\n",
        "print(\"Generated Text:\\n\", generated_text)"
      ],
      "metadata": {
        "colab": {
          "base_uri": "https://localhost:8080/"
        },
        "id": "OO9-HghP6GAk",
        "outputId": "b2b5fafc-9ebc-4c08-9222-d2e02c8143c0"
      },
      "execution_count": 14,
      "outputs": [
        {
          "output_type": "stream",
          "name": "stdout",
          "text": [
            "Generated Text:\n",
            " Once upon more than his showman . arriving in musan , comes to go with his loved many lives comfortably settled in\n"
          ]
        }
      ]
    },
    {
      "cell_type": "code",
      "source": [
        "def evaluate_generated_text(generated_text):\n",
        "    # Example heuristic: count the number of real words in the generated text\n",
        "    real_words_count = sum(1 for word in word_tokenize(generated_text) if word in nltk.corpus.words.words())\n",
        "    return real_words_count / len(word_tokenize(generated_text))\n",
        "\n",
        "evaluation_score = evaluate_generated_text(generated_text)\n",
        "print(\"Evaluation Score:\", evaluation_score)"
      ],
      "metadata": {
        "colab": {
          "base_uri": "https://localhost:8080/"
        },
        "id": "K-keMD3Q6JE6",
        "outputId": "c063969d-a48e-42e3-c411-52e21f44fe0e"
      },
      "execution_count": 15,
      "outputs": [
        {
          "output_type": "stream",
          "name": "stdout",
          "text": [
            "Evaluation Score: 0.6818181818181818\n"
          ]
        }
      ]
    },
    {
      "cell_type": "code",
      "source": [
        "def plot_word_frequencies(tokens, top_n=20):\n",
        "    freq_dist = nltk.FreqDist(tokens)\n",
        "    most_common = freq_dist.most_common(top_n)\n",
        "\n",
        "    words = [word for word, _ in most_common]\n",
        "    frequencies = [freq for _, freq in most_common]\n",
        "\n",
        "    plt.figure(figsize=(10, 5))\n",
        "    plt.bar(words, frequencies)\n",
        "    plt.xlabel('Words')\n",
        "    plt.ylabel('Frequencies')\n",
        "    plt.title(f'Top {top_n} Most Common Words')\n",
        "    plt.show()\n",
        "\n",
        "# Plot the top 20 most common words\n",
        "plot_word_frequencies(tokens, top_n=20)"
      ],
      "metadata": {
        "colab": {
          "base_uri": "https://localhost:8080/",
          "height": 487
        },
        "id": "iW-i2tup6RzA",
        "outputId": "ff2ebf58-d75a-4c72-834c-750380f8ab49"
      },
      "execution_count": 16,
      "outputs": [
        {
          "output_type": "display_data",
          "data": {
            "text/plain": [
              "<Figure size 1000x500 with 1 Axes>"
            ],
            "image/png": "[encoded data removed]"
          },
          "metadata": {}
        }
      ]
    }
  ]
}