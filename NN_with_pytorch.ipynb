{
  "nbformat": 4,
  "nbformat_minor": 0,
  "metadata": {
    "colab": {
      "provenance": [],
      "gpuType": "T4",
      "authorship_tag": "ABX9TyPPtkdngd9dGe9mmRMamx0f",
      "include_colab_link": true
    },
    "kernelspec": {
      "name": "python3",
      "display_name": "Python 3"
    },
    "language_info": {
      "name": "python"
    },
    "accelerator": "GPU"
  },
  "cells": [
    {
      "cell_type": "markdown",
      "metadata": {
        "id": "view-in-github",
        "colab_type": "text"
      },
      "source": [
        "<a href=\"https://colab.research.google.com/github/shahad-jeza/kaust_training/blob/main/NN_with_pytorch.ipynb\" target=\"_parent\"><img src=\"https://colab.research.google.com/assets/colab-badge.svg\" alt=\"Open In Colab\"/></a>"
      ]
    },
    {
      "cell_type": "markdown",
      "source": [
        "# quick pytorch overview"
      ],
      "metadata": {
        "id": "JxYr3_A_oyGk"
      }
    },
    {
      "cell_type": "code",
      "execution_count": 2,
      "metadata": {
        "id": "f2pqQKrhzteW"
      },
      "outputs": [],
      "source": [
        "import torch\n",
        "import numpy as np\n",
        "import time"
      ]
    },
    {
      "cell_type": "code",
      "source": [
        "# convert from numpy array to tensor\n",
        "x = np.random.rand(4,5)\n",
        "print(type(x))\n",
        "x = torch.from_numpy(x)\n",
        "print(type(x))"
      ],
      "metadata": {
        "colab": {
          "base_uri": "https://localhost:8080/"
        },
        "id": "L831e-CV0Zjg",
        "outputId": "7c428634-cb90-4547-e5e4-ebc0c8cd8250"
      },
      "execution_count": 3,
      "outputs": [
        {
          "output_type": "stream",
          "name": "stdout",
          "text": [
            "<class 'numpy.ndarray'>\n",
            "<class 'torch.Tensor'>\n"
          ]
        }
      ]
    },
    {
      "cell_type": "code",
      "source": [
        "# list to tensor\n",
        "x = [[1,2] , [3,4]]\n",
        "print(type(x))\n",
        "x = torch.Tensor(x)\n",
        "print(type(x))"
      ],
      "metadata": {
        "colab": {
          "base_uri": "https://localhost:8080/"
        },
        "id": "X032e75L0wa1",
        "outputId": "eb87d753-a3fa-4c24-d471-c0b83979a7fb"
      },
      "execution_count": 4,
      "outputs": [
        {
          "output_type": "stream",
          "name": "stdout",
          "text": [
            "<class 'list'>\n",
            "<class 'torch.Tensor'>\n"
          ]
        }
      ]
    },
    {
      "cell_type": "code",
      "source": [
        "x = torch.randn(3,4)\n",
        "print(x)"
      ],
      "metadata": {
        "colab": {
          "base_uri": "https://localhost:8080/"
        },
        "id": "lRqJwi2c08JU",
        "outputId": "b677bb91-7bd7-4e81-8d0f-3e2b1d2e038b"
      },
      "execution_count": 5,
      "outputs": [
        {
          "output_type": "stream",
          "name": "stdout",
          "text": [
            "tensor([[-0.9005, -0.5958,  1.4475,  0.2175],\n",
            "        [ 2.0548, -0.2956, -0.6476,  1.1970],\n",
            "        [-0.1657, -0.8856,  0.4887,  1.0280]])\n"
          ]
        }
      ]
    },
    {
      "cell_type": "code",
      "source": [
        "# take dervtive of y in respect to x\n",
        "x = torch.Tensor([4])\n",
        "x.requires_grad = True\n",
        "y=x**2\n",
        "y.backward()\n",
        "print(x.grad)"
      ],
      "metadata": {
        "colab": {
          "base_uri": "https://localhost:8080/"
        },
        "id": "1I2uzRnI2qYM",
        "outputId": "fdccb5aa-00b8-4708-e7ab-82eae81e2f84"
      },
      "execution_count": 6,
      "outputs": [
        {
          "output_type": "stream",
          "name": "stdout",
          "text": [
            "tensor([8.])\n"
          ]
        }
      ]
    },
    {
      "cell_type": "code",
      "source": [
        "# the diffrence of matrix multiplication speed\n",
        "\n",
        "x = torch.randn(1000 , 1000)\n",
        "y = torch.randn(1000 , 1000)\n",
        "\n",
        "z = torch.zeros(1000,1000)\n",
        "\n",
        "start = time.time()\n",
        "for i in range(x.shape[0]):\n",
        "  for j in range(y.shape[1]) :\n",
        "    z[i,j] = torch.dot(x[i,:] , y[: , j])\n",
        "\n",
        "end = time.time()\n",
        "\n",
        "print(f\"it took : {end-start} with nested for loop \")\n",
        "\n",
        "\n",
        "start = time.time()\n",
        "z = torch.mm(x,y)\n",
        "\n",
        "end = time.time()\n",
        "\n",
        "print(f\"it took : {end-start} with pytorch matrix multiplication\")\n",
        "\n",
        "\n",
        "\n",
        "x = x.to(\"cuda:0\")\n",
        "y = y.to(\"cuda:0\")\n",
        "start = time.time()\n",
        "z = torch.mm(x,y)\n",
        "\n",
        "end = time.time()\n",
        "\n",
        "print(f\"it took : {end-start} with GPU\")\n"
      ],
      "metadata": {
        "colab": {
          "base_uri": "https://localhost:8080/"
        },
        "id": "D4ci4HFh3wwd",
        "outputId": "618cb493-e9d2-4491-8f0a-219a9424792a"
      },
      "execution_count": 7,
      "outputs": [
        {
          "output_type": "stream",
          "name": "stdout",
          "text": [
            "it took : 23.393713235855103 with nested for loop \n",
            "it took : 0.03282785415649414 with pytorch matrix multiplication\n",
            "it took : 0.09340620040893555 with GPU\n"
          ]
        }
      ]
    },
    {
      "cell_type": "markdown",
      "source": [
        "\n",
        "\n",
        "---\n",
        "\n"
      ],
      "metadata": {
        "id": "jw3Nymhx6ZAZ"
      }
    },
    {
      "cell_type": "markdown",
      "source": [
        "# Example of NN using pytorch on MNIST dataset"
      ],
      "metadata": {
        "id": "cxuQyb5Qo5gy"
      }
    },
    {
      "cell_type": "code",
      "source": [
        "import torch.nn as nn # stands for neural network\n",
        "import torch.optim as optim # for optmization\n",
        "import matplotlib.pyplot as plt\n",
        "\n",
        "from torchvision.datasets import MNIST\n",
        "import torchvision.transforms as T\n",
        "from torch.utils.data import DataLoader # for data batching\n",
        "import torch.nn.functional  as F\n"
      ],
      "metadata": {
        "id": "JvppiF2W6djR"
      },
      "execution_count": 8,
      "outputs": []
    },
    {
      "cell_type": "code",
      "source": [
        "train_dataset = MNIST(\"/\" , download= True , train = True , transform=T.ToTensor())\n",
        "test_dataset = MNIST(\"/\" , download= True , train = False , transform=T.ToTensor())"
      ],
      "metadata": {
        "id": "RlE-LOoO7Ldz",
        "colab": {
          "base_uri": "https://localhost:8080/"
        },
        "outputId": "3842e84c-afe7-4aac-f1c6-b10e07d91fb4"
      },
      "execution_count": 9,
      "outputs": [
        {
          "output_type": "stream",
          "name": "stdout",
          "text": [
            "Downloading http://yann.lecun.com/exdb/mnist/train-images-idx3-ubyte.gz\n",
            "Downloading http://yann.lecun.com/exdb/mnist/train-images-idx3-ubyte.gz to /MNIST/raw/train-images-idx3-ubyte.gz\n"
          ]
        },
        {
          "output_type": "stream",
          "name": "stderr",
          "text": [
            "100%|██████████| 9912422/9912422 [00:00<00:00, 163907177.67it/s]"
          ]
        },
        {
          "output_type": "stream",
          "name": "stdout",
          "text": [
            "Extracting /MNIST/raw/train-images-idx3-ubyte.gz to /MNIST/raw\n"
          ]
        },
        {
          "output_type": "stream",
          "name": "stderr",
          "text": [
            "\n"
          ]
        },
        {
          "output_type": "stream",
          "name": "stdout",
          "text": [
            "\n",
            "Downloading http://yann.lecun.com/exdb/mnist/train-labels-idx1-ubyte.gz\n",
            "Downloading http://yann.lecun.com/exdb/mnist/train-labels-idx1-ubyte.gz to /MNIST/raw/train-labels-idx1-ubyte.gz\n"
          ]
        },
        {
          "output_type": "stream",
          "name": "stderr",
          "text": [
            "100%|██████████| 28881/28881 [00:00<00:00, 84769554.81it/s]\n"
          ]
        },
        {
          "output_type": "stream",
          "name": "stdout",
          "text": [
            "Extracting /MNIST/raw/train-labels-idx1-ubyte.gz to /MNIST/raw\n",
            "\n",
            "Downloading http://yann.lecun.com/exdb/mnist/t10k-images-idx3-ubyte.gz\n",
            "Downloading http://yann.lecun.com/exdb/mnist/t10k-images-idx3-ubyte.gz to /MNIST/raw/t10k-images-idx3-ubyte.gz\n"
          ]
        },
        {
          "output_type": "stream",
          "name": "stderr",
          "text": [
            "100%|██████████| 1648877/1648877 [00:00<00:00, 47797330.86it/s]"
          ]
        },
        {
          "output_type": "stream",
          "name": "stdout",
          "text": [
            "Extracting /MNIST/raw/t10k-images-idx3-ubyte.gz to /MNIST/raw\n"
          ]
        },
        {
          "output_type": "stream",
          "name": "stderr",
          "text": [
            "\n"
          ]
        },
        {
          "output_type": "stream",
          "name": "stdout",
          "text": [
            "\n",
            "Downloading http://yann.lecun.com/exdb/mnist/t10k-labels-idx1-ubyte.gz\n",
            "Downloading http://yann.lecun.com/exdb/mnist/t10k-labels-idx1-ubyte.gz to /MNIST/raw/t10k-labels-idx1-ubyte.gz\n"
          ]
        },
        {
          "output_type": "stream",
          "name": "stderr",
          "text": [
            "100%|██████████| 4542/4542 [00:00<00:00, 18787503.72it/s]\n"
          ]
        },
        {
          "output_type": "stream",
          "name": "stdout",
          "text": [
            "Extracting /MNIST/raw/t10k-labels-idx1-ubyte.gz to /MNIST/raw\n",
            "\n"
          ]
        }
      ]
    },
    {
      "cell_type": "code",
      "source": [
        "batch_size = 32\n",
        "train_loader = DataLoader(train_dataset , batch_size = batch_size)\n",
        "test_loader = DataLoader(test_dataset , batch_size = batch_size)"
      ],
      "metadata": {
        "id": "We-Nly-X7cHY"
      },
      "execution_count": 10,
      "outputs": []
    },
    {
      "cell_type": "code",
      "source": [
        "# check a batch of the data\n",
        "batch = next(iter(train_loader))\n",
        "print(batch[0].shape)\n",
        "print((batch[0].view(-1,28*28)).shape)"
      ],
      "metadata": {
        "colab": {
          "base_uri": "https://localhost:8080/"
        },
        "id": "bFnWOTFj8b0b",
        "outputId": "60e30b8a-d433-418d-c3d5-c95f3dcd5cdd"
      },
      "execution_count": 11,
      "outputs": [
        {
          "output_type": "stream",
          "name": "stdout",
          "text": [
            "torch.Size([32, 1, 28, 28])\n",
            "torch.Size([32, 784])\n"
          ]
        }
      ]
    },
    {
      "cell_type": "code",
      "source": [
        "class My_NN(nn.Module):\n",
        "  def __init__(self , ni , nh ,no):\n",
        "    super().__init__() # intilize the parents\n",
        "    self.layer1 = nn.Linear(ni , nh)\n",
        "    self.layer2 = nn.Linear(nh , no)\n",
        "\n",
        "  def forward(self , x):\n",
        "    x = self.layer1(x)\n",
        "    x = torch.sigmoid(x)\n",
        "    x = self.layer2(x)\n",
        "    return x"
      ],
      "metadata": {
        "id": "zfcKop938wwO"
      },
      "execution_count": 12,
      "outputs": []
    },
    {
      "cell_type": "code",
      "source": [
        "device = torch.device(\"cuda:0\")\n",
        "num_epochs =10\n",
        "lr = 0.05\n",
        "momentum = 0.5\n",
        "ni = 28*28\n",
        "nh = 100\n",
        "no =10 # for the 10 digits\n",
        "net = My_NN(ni , nh , no).to(device) # the nn is dfined now\n",
        "\n",
        "## define optmizer\n",
        "opt = optim.SGD(net.parameters() , lr=lr , momentum = momentum )\n",
        "\n",
        "ls = []\n",
        "# training loop\n",
        "for i in range(num_epochs):\n",
        "  total_loss =0\n",
        "  for batch in train_loader:\n",
        "    X,y = batch[0].view(-1,ni).to(device) , batch[1].to(device)  # extract X and y and reashape the input to be in columns\n",
        "    out = net(X) # call the forward method\n",
        "    loss = F.cross_entropy(out ,y) # compute loss ,have a soft max implemented\n",
        "    opt.zero_grad() # clears the gradints buffers because in batch\n",
        "    loss.backward() # calculate gradients and store in buffers\n",
        "    opt.step() # take a step in the negtive gradient direction\n",
        "    total_loss += loss.item()\n",
        "  ls.append(total_loss)\n",
        "\n",
        "plt.plot(ls)"
      ],
      "metadata": {
        "colab": {
          "base_uri": "https://localhost:8080/",
          "height": 447
        },
        "id": "4N0jo4Pi957_",
        "outputId": "774cea3b-8a89-4888-b524-9c5ee843c94d"
      },
      "execution_count": 13,
      "outputs": [
        {
          "output_type": "execute_result",
          "data": {
            "text/plain": [
              "[<matplotlib.lines.Line2D at 0x7b01cbf45480>]"
            ]
          },
          "metadata": {},
          "execution_count": 13
        },
        {
          "output_type": "display_data",
          "data": {
            "text/plain": [
              "<Figure size 640x480 with 1 Axes>"
            ],
            "image/png": "[encoded data removed]"
          },
          "metadata": {}
        }
      ]
    },
    {
      "cell_type": "markdown",
      "source": [
        "# testing"
      ],
      "metadata": {
        "id": "bIydl2fZERZh"
      }
    },
    {
      "cell_type": "code",
      "source": [
        "from sklearn.metrics import accuracy_score\n",
        "\n",
        "total_accuracy = 0.0\n",
        "num_batches = len(test_loader)\n",
        "\n",
        "for batch_idx, (X, y) in enumerate(test_loader):\n",
        "    X = X.view(-1, ni).to(device)\n",
        "    y = y.to(device)\n",
        "    out = net(X)\n",
        "    yhat = torch.argmax(out, dim=1).cpu().numpy()  # Convert yhat to numpy array\n",
        "    y = y.cpu().numpy()  # Convert y to numpy array\n",
        "    accuracy = accuracy_score(y, yhat)\n",
        "    total_accuracy += accuracy\n",
        "\n",
        "final_accuracy = total_accuracy / num_batches\n",
        "print(f\"The final accuracy is {final_accuracy}\")"
      ],
      "metadata": {
        "id": "9zziOClxETKx",
        "colab": {
          "base_uri": "https://localhost:8080/"
        },
        "outputId": "37b87aee-92d2-42f5-d587-0b5bb44417a2"
      },
      "execution_count": 14,
      "outputs": [
        {
          "output_type": "stream",
          "name": "stdout",
          "text": [
            "The final accuracy is 0.9600638977635783\n"
          ]
        }
      ]
    }
  ]
}